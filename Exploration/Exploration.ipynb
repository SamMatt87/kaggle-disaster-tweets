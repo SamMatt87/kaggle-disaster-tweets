{
 "cells": [
  {
   "cell_type": "code",
   "execution_count": 8,
   "metadata": {
    "collapsed": true,
    "pycharm": {
     "name": "#%%\n"
    }
   },
   "outputs": [],
   "source": [
    "import pandas as pd\n",
    "import matplotlib.pyplot as plt\n",
    "import nltk\n",
    "import re"
   ]
  },
  {
   "cell_type": "code",
   "execution_count": 9,
   "outputs": [
    {
     "data": {
      "text/plain": "         id keyword location  \\\n0         1     NaN      NaN   \n1         4     NaN      NaN   \n2         5     NaN      NaN   \n3         6     NaN      NaN   \n4         7     NaN      NaN   \n...     ...     ...      ...   \n7608  10869     NaN      NaN   \n7609  10870     NaN      NaN   \n7610  10871     NaN      NaN   \n7611  10872     NaN      NaN   \n7612  10873     NaN      NaN   \n\n                                                   text  target  \n0     Our Deeds are the Reason of this #earthquake M...       1  \n1                Forest fire near La Ronge Sask. Canada       1  \n2     All residents asked to 'shelter in place' are ...       1  \n3     13,000 people receive #wildfires evacuation or...       1  \n4     Just got sent this photo from Ruby #Alaska as ...       1  \n...                                                 ...     ...  \n7608  Two giant cranes holding a bridge collapse int...       1  \n7609  @aria_ahrary @TheTawniest The out of control w...       1  \n7610  M1.94 [01:04 UTC]?5km S of Volcano Hawaii. htt...       1  \n7611  Police investigating after an e-bike collided ...       1  \n7612  The Latest: More Homes Razed by Northern Calif...       1  \n\n[7613 rows x 5 columns]",
      "text/html": "<div>\n<style scoped>\n    .dataframe tbody tr th:only-of-type {\n        vertical-align: middle;\n    }\n\n    .dataframe tbody tr th {\n        vertical-align: top;\n    }\n\n    .dataframe thead th {\n        text-align: right;\n    }\n</style>\n<table border=\"1\" class=\"dataframe\">\n  <thead>\n    <tr style=\"text-align: right;\">\n      <th></th>\n      <th>id</th>\n      <th>keyword</th>\n      <th>location</th>\n      <th>text</th>\n      <th>target</th>\n    </tr>\n  </thead>\n  <tbody>\n    <tr>\n      <th>0</th>\n      <td>1</td>\n      <td>NaN</td>\n      <td>NaN</td>\n      <td>Our Deeds are the Reason of this #earthquake M...</td>\n      <td>1</td>\n    </tr>\n    <tr>\n      <th>1</th>\n      <td>4</td>\n      <td>NaN</td>\n      <td>NaN</td>\n      <td>Forest fire near La Ronge Sask. Canada</td>\n      <td>1</td>\n    </tr>\n    <tr>\n      <th>2</th>\n      <td>5</td>\n      <td>NaN</td>\n      <td>NaN</td>\n      <td>All residents asked to 'shelter in place' are ...</td>\n      <td>1</td>\n    </tr>\n    <tr>\n      <th>3</th>\n      <td>6</td>\n      <td>NaN</td>\n      <td>NaN</td>\n      <td>13,000 people receive #wildfires evacuation or...</td>\n      <td>1</td>\n    </tr>\n    <tr>\n      <th>4</th>\n      <td>7</td>\n      <td>NaN</td>\n      <td>NaN</td>\n      <td>Just got sent this photo from Ruby #Alaska as ...</td>\n      <td>1</td>\n    </tr>\n    <tr>\n      <th>...</th>\n      <td>...</td>\n      <td>...</td>\n      <td>...</td>\n      <td>...</td>\n      <td>...</td>\n    </tr>\n    <tr>\n      <th>7608</th>\n      <td>10869</td>\n      <td>NaN</td>\n      <td>NaN</td>\n      <td>Two giant cranes holding a bridge collapse int...</td>\n      <td>1</td>\n    </tr>\n    <tr>\n      <th>7609</th>\n      <td>10870</td>\n      <td>NaN</td>\n      <td>NaN</td>\n      <td>@aria_ahrary @TheTawniest The out of control w...</td>\n      <td>1</td>\n    </tr>\n    <tr>\n      <th>7610</th>\n      <td>10871</td>\n      <td>NaN</td>\n      <td>NaN</td>\n      <td>M1.94 [01:04 UTC]?5km S of Volcano Hawaii. htt...</td>\n      <td>1</td>\n    </tr>\n    <tr>\n      <th>7611</th>\n      <td>10872</td>\n      <td>NaN</td>\n      <td>NaN</td>\n      <td>Police investigating after an e-bike collided ...</td>\n      <td>1</td>\n    </tr>\n    <tr>\n      <th>7612</th>\n      <td>10873</td>\n      <td>NaN</td>\n      <td>NaN</td>\n      <td>The Latest: More Homes Razed by Northern Calif...</td>\n      <td>1</td>\n    </tr>\n  </tbody>\n</table>\n<p>7613 rows × 5 columns</p>\n</div>"
     },
     "execution_count": 9,
     "metadata": {},
     "output_type": "execute_result"
    }
   ],
   "source": [
    "train=pd.read_csv('../nlp-getting-started/train.csv')\n",
    "train"
   ],
   "metadata": {
    "collapsed": false,
    "pycharm": {
     "name": "#%%\n"
    }
   }
  },
  {
   "cell_type": "code",
   "execution_count": 10,
   "outputs": [],
   "source": [
    "def includes_website(text):\n",
    "    website = int('http' in text)\n",
    "    return website"
   ],
   "metadata": {
    "collapsed": false,
    "pycharm": {
     "name": "#%%\n"
    }
   }
  },
  {
   "cell_type": "code",
   "execution_count": 11,
   "outputs": [
    {
     "data": {
      "text/plain": "['is', 'test', 'of', 'function']"
     },
     "execution_count": 11,
     "metadata": {},
     "output_type": "execute_result"
    }
   ],
   "source": [
    "def hashtags(text):\n",
    "    hashtags=[]\n",
    "    for word in text.split():\n",
    "        if '#' in word:\n",
    "            if word.count('#') == 1:\n",
    "                hashtags.append(word[word.find('#')+1:])\n",
    "            else:\n",
    "                for subword in word[word.find('#'):].split('#')[1:]:\n",
    "                    hashtags.append(subword)\n",
    "    return hashtags\n",
    "hashtags('this #is #test#of the#function')"
   ],
   "metadata": {
    "collapsed": false,
    "pycharm": {
     "name": "#%%\n"
    }
   }
  },
  {
   "cell_type": "code",
   "execution_count": 12,
   "outputs": [
    {
     "data": {
      "text/plain": "['we', 'many', 'people']"
     },
     "execution_count": 12,
     "metadata": {},
     "output_type": "execute_result"
    }
   ],
   "source": [
    "def mentions(text):\n",
    "    mentions=[]\n",
    "    for word in text.split():\n",
    "        if '@' in word:\n",
    "            if word.count('@') == 1:\n",
    "                mentions.append(word[word.find('@')+1:])\n",
    "            else:\n",
    "                for subword in word[word.find('@'):].split('@')[1:]:\n",
    "                    mentions.append(subword)\n",
    "    return mentions\n",
    "mentions('What if @we mention@many@people')"
   ],
   "metadata": {
    "collapsed": false,
    "pycharm": {
     "name": "#%%\n"
    }
   }
  },
  {
   "cell_type": "code",
   "execution_count": 13,
   "outputs": [
    {
     "data": {
      "text/plain": "'This is of extras'"
     },
     "execution_count": 13,
     "metadata": {},
     "output_type": "execute_result"
    }
   ],
   "source": [
    "def remove_extras(text):\n",
    "    out_text=[]\n",
    "    for word in text.split():\n",
    "        if '#' in word:\n",
    "            out_text.append(word[0:word.find('#')])\n",
    "        elif '@' in word:\n",
    "            out_text.append(word[0:word.find('@')])\n",
    "        elif 'http' in word:\n",
    "            out_text.append(word[0:word.find('http')])\n",
    "        else:\n",
    "            out_text.append(word)\n",
    "    return ' '.join(out_text).replace('  ',' ')\n",
    "remove_extras('This is#a @test ofhttp://removing extras')\n"
   ],
   "metadata": {
    "collapsed": false,
    "pycharm": {
     "name": "#%%\n"
    }
   }
  },
  {
   "cell_type": "code",
   "execution_count": 14,
   "outputs": [],
   "source": [
    "def alphanumeric(text):\n",
    "    output = re.sub(r'[A-Za-z0-9 ]+','',text)\n",
    "    return output.replace('  ',' ')"
   ],
   "metadata": {
    "collapsed": false,
    "pycharm": {
     "name": "#%%\n"
    }
   }
  },
  {
   "cell_type": "code",
   "execution_count": 18,
   "outputs": [],
   "source": [
    "stopwords = []\n",
    "for word in nltk.corpus.stopwords.words('english'):\n",
    "    stopwords.append(alphanumeric(word))\n",
    "stopwords = set(stopwords)\n",
    "def remove_stopwords(text):\n",
    "    out = []\n",
    "    for word in text.split():\n",
    "        if word.lower() in stopwords:\n",
    "            pass\n",
    "        else:\n",
    "            out.append(word.lower())\n",
    "    return ' '.join(out)"
   ],
   "metadata": {
    "collapsed": false,
    "pycharm": {
     "name": "#%%\n"
    }
   }
  },
  {
   "cell_type": "code",
   "execution_count": 19,
   "outputs": [],
   "source": [
    "def preprocess(data):\n",
    "    data['includes_website'] = data.text.apply(lambda x: includes_website(x))\n",
    "    data['hashtags'] = data.text.apply(lambda x: hashtags(x))\n",
    "    data['num_hashtags'] = data.hashtags.apply(lambda  x: len(x))\n",
    "    data['mentions'] = data.text.apply(lambda x: mentions(x))\n",
    "    data['num_mentions'] = data.mentions.apply(lambda x:len(x))\n",
    "    data['tweet_length'] = data.text.apply(lambda x: len(x))\n",
    "    data['clean_text'] = data.text.apply(lambda x: remove_stopwords(alphanumeric(remove_extras(x))))\n",
    "    return data"
   ],
   "metadata": {
    "collapsed": false,
    "pycharm": {
     "name": "#%%\n"
    }
   }
  },
  {
   "cell_type": "code",
   "execution_count": 20,
   "outputs": [
    {
     "data": {
      "text/plain": "         id keyword location  \\\n0         1     NaN      NaN   \n1         4     NaN      NaN   \n2         5     NaN      NaN   \n3         6     NaN      NaN   \n4         7     NaN      NaN   \n...     ...     ...      ...   \n7608  10869     NaN      NaN   \n7609  10870     NaN      NaN   \n7610  10871     NaN      NaN   \n7611  10872     NaN      NaN   \n7612  10873     NaN      NaN   \n\n                                                   text  target  \\\n0     Our Deeds are the Reason of this #earthquake M...       1   \n1                Forest fire near La Ronge Sask. Canada       1   \n2     All residents asked to 'shelter in place' are ...       1   \n3     13,000 people receive #wildfires evacuation or...       1   \n4     Just got sent this photo from Ruby #Alaska as ...       1   \n...                                                 ...     ...   \n7608  Two giant cranes holding a bridge collapse int...       1   \n7609  @aria_ahrary @TheTawniest The out of control w...       1   \n7610  M1.94 [01:04 UTC]?5km S of Volcano Hawaii. htt...       1   \n7611  Police investigating after an e-bike collided ...       1   \n7612  The Latest: More Homes Razed by Northern Calif...       1   \n\n      includes_website             hashtags  num_hashtags  \\\n0                    0         [earthquake]             1   \n1                    0                   []             0   \n2                    0                   []             0   \n3                    0          [wildfires]             1   \n4                    0  [Alaska, wildfires]             2   \n...                ...                  ...           ...   \n7608                 1                   []             0   \n7609                 0                   []             0   \n7610                 1                   []             0   \n7611                 0                   []             0   \n7612                 1                   []             0   \n\n                        mentions  num_mentions  tweet_length clean_text  \n0                             []             0            69             \n1                             []             0            38          .  \n2                             []             0           133        ''.  \n3                             []             0            65          ,  \n4                             []             0            88             \n...                          ...           ...           ...        ...  \n7608                          []             0            83             \n7609  [aria_ahrary, TheTawniest]             2           125         ..  \n7610                          []             0            65     .[:]?.  \n7611                          []             0           137      -.--.  \n7612                          []             0            94         :-  \n\n[7613 rows x 12 columns]",
      "text/html": "<div>\n<style scoped>\n    .dataframe tbody tr th:only-of-type {\n        vertical-align: middle;\n    }\n\n    .dataframe tbody tr th {\n        vertical-align: top;\n    }\n\n    .dataframe thead th {\n        text-align: right;\n    }\n</style>\n<table border=\"1\" class=\"dataframe\">\n  <thead>\n    <tr style=\"text-align: right;\">\n      <th></th>\n      <th>id</th>\n      <th>keyword</th>\n      <th>location</th>\n      <th>text</th>\n      <th>target</th>\n      <th>includes_website</th>\n      <th>hashtags</th>\n      <th>num_hashtags</th>\n      <th>mentions</th>\n      <th>num_mentions</th>\n      <th>tweet_length</th>\n      <th>clean_text</th>\n    </tr>\n  </thead>\n  <tbody>\n    <tr>\n      <th>0</th>\n      <td>1</td>\n      <td>NaN</td>\n      <td>NaN</td>\n      <td>Our Deeds are the Reason of this #earthquake M...</td>\n      <td>1</td>\n      <td>0</td>\n      <td>[earthquake]</td>\n      <td>1</td>\n      <td>[]</td>\n      <td>0</td>\n      <td>69</td>\n      <td></td>\n    </tr>\n    <tr>\n      <th>1</th>\n      <td>4</td>\n      <td>NaN</td>\n      <td>NaN</td>\n      <td>Forest fire near La Ronge Sask. Canada</td>\n      <td>1</td>\n      <td>0</td>\n      <td>[]</td>\n      <td>0</td>\n      <td>[]</td>\n      <td>0</td>\n      <td>38</td>\n      <td>.</td>\n    </tr>\n    <tr>\n      <th>2</th>\n      <td>5</td>\n      <td>NaN</td>\n      <td>NaN</td>\n      <td>All residents asked to 'shelter in place' are ...</td>\n      <td>1</td>\n      <td>0</td>\n      <td>[]</td>\n      <td>0</td>\n      <td>[]</td>\n      <td>0</td>\n      <td>133</td>\n      <td>''.</td>\n    </tr>\n    <tr>\n      <th>3</th>\n      <td>6</td>\n      <td>NaN</td>\n      <td>NaN</td>\n      <td>13,000 people receive #wildfires evacuation or...</td>\n      <td>1</td>\n      <td>0</td>\n      <td>[wildfires]</td>\n      <td>1</td>\n      <td>[]</td>\n      <td>0</td>\n      <td>65</td>\n      <td>,</td>\n    </tr>\n    <tr>\n      <th>4</th>\n      <td>7</td>\n      <td>NaN</td>\n      <td>NaN</td>\n      <td>Just got sent this photo from Ruby #Alaska as ...</td>\n      <td>1</td>\n      <td>0</td>\n      <td>[Alaska, wildfires]</td>\n      <td>2</td>\n      <td>[]</td>\n      <td>0</td>\n      <td>88</td>\n      <td></td>\n    </tr>\n    <tr>\n      <th>...</th>\n      <td>...</td>\n      <td>...</td>\n      <td>...</td>\n      <td>...</td>\n      <td>...</td>\n      <td>...</td>\n      <td>...</td>\n      <td>...</td>\n      <td>...</td>\n      <td>...</td>\n      <td>...</td>\n      <td>...</td>\n    </tr>\n    <tr>\n      <th>7608</th>\n      <td>10869</td>\n      <td>NaN</td>\n      <td>NaN</td>\n      <td>Two giant cranes holding a bridge collapse int...</td>\n      <td>1</td>\n      <td>1</td>\n      <td>[]</td>\n      <td>0</td>\n      <td>[]</td>\n      <td>0</td>\n      <td>83</td>\n      <td></td>\n    </tr>\n    <tr>\n      <th>7609</th>\n      <td>10870</td>\n      <td>NaN</td>\n      <td>NaN</td>\n      <td>@aria_ahrary @TheTawniest The out of control w...</td>\n      <td>1</td>\n      <td>0</td>\n      <td>[]</td>\n      <td>0</td>\n      <td>[aria_ahrary, TheTawniest]</td>\n      <td>2</td>\n      <td>125</td>\n      <td>..</td>\n    </tr>\n    <tr>\n      <th>7610</th>\n      <td>10871</td>\n      <td>NaN</td>\n      <td>NaN</td>\n      <td>M1.94 [01:04 UTC]?5km S of Volcano Hawaii. htt...</td>\n      <td>1</td>\n      <td>1</td>\n      <td>[]</td>\n      <td>0</td>\n      <td>[]</td>\n      <td>0</td>\n      <td>65</td>\n      <td>.[:]?.</td>\n    </tr>\n    <tr>\n      <th>7611</th>\n      <td>10872</td>\n      <td>NaN</td>\n      <td>NaN</td>\n      <td>Police investigating after an e-bike collided ...</td>\n      <td>1</td>\n      <td>0</td>\n      <td>[]</td>\n      <td>0</td>\n      <td>[]</td>\n      <td>0</td>\n      <td>137</td>\n      <td>-.--.</td>\n    </tr>\n    <tr>\n      <th>7612</th>\n      <td>10873</td>\n      <td>NaN</td>\n      <td>NaN</td>\n      <td>The Latest: More Homes Razed by Northern Calif...</td>\n      <td>1</td>\n      <td>1</td>\n      <td>[]</td>\n      <td>0</td>\n      <td>[]</td>\n      <td>0</td>\n      <td>94</td>\n      <td>:-</td>\n    </tr>\n  </tbody>\n</table>\n<p>7613 rows × 12 columns</p>\n</div>"
     },
     "execution_count": 20,
     "metadata": {},
     "output_type": "execute_result"
    }
   ],
   "source": [
    "train=preprocess(train)\n",
    "train"
   ],
   "metadata": {
    "collapsed": false,
    "pycharm": {
     "name": "#%%\n"
    }
   }
  },
  {
   "cell_type": "code",
   "execution_count": 21,
   "outputs": [
    {
     "data": {
      "text/plain": "<AxesSubplot:ylabel='target'>"
     },
     "execution_count": 21,
     "metadata": {},
     "output_type": "execute_result"
    },
    {
     "data": {
      "text/plain": "<Figure size 432x288 with 1 Axes>",
      "image/png": "[encoded data removed]"
     },
     "metadata": {},
     "output_type": "display_data"
    }
   ],
   "source": [
    "train.target.value_counts().plot.pie()"
   ],
   "metadata": {
    "collapsed": false,
    "pycharm": {
     "name": "#%%\n"
    }
   }
  },
  {
   "cell_type": "code",
   "execution_count": 31,
   "outputs": [],
   "source": [
    "def generate_bar(data, column):\n",
    "    frequency = data[column].value_counts().sort_index()\n",
    "    labels = frequency.keys()\n",
    "    Positives = []\n",
    "    Negatives = []\n",
    "    for value in labels:\n",
    "        Positives.append(len(data[(data.target == 1) & (data[column]==value)]))\n",
    "        Negatives.append(len(data[(data.target == 0) & (data[column]==value)]))\n",
    "    fig, ax =plt.subplots()\n",
    "    ax.bar(labels, Negatives, label = 0)\n",
    "    ax.bar(labels, Positives, bottom = Negatives, label = 1)\n",
    "    ax.set_ylabel('frequency')\n",
    "    ax.legend()\n",
    "    plt.show()"
   ],
   "metadata": {
    "collapsed": false,
    "pycharm": {
     "name": "#%%\n"
    }
   }
  },
  {
   "cell_type": "code",
   "execution_count": 32,
   "outputs": [
    {
     "data": {
      "text/plain": "<Figure size 432x288 with 1 Axes>",
      "image/png": "[encoded data removed]"
     },
     "metadata": {
      "needs_background": "light"
     },
     "output_type": "display_data"
    }
   ],
   "source": [
    "generate_bar(train,'tweet_length')"
   ],
   "metadata": {
    "collapsed": false,
    "pycharm": {
     "name": "#%%\n"
    }
   }
  },
  {
   "cell_type": "code",
   "execution_count": 33,
   "outputs": [
    {
     "data": {
      "text/plain": "<Figure size 432x288 with 1 Axes>",
      "image/png": "[encoded data removed]"
     },
     "metadata": {
      "needs_background": "light"
     },
     "output_type": "display_data"
    }
   ],
   "source": [
    "generate_bar(train,'num_hashtags')"
   ],
   "metadata": {
    "collapsed": false,
    "pycharm": {
     "name": "#%%\n"
    }
   }
  },
  {
   "cell_type": "code",
   "execution_count": 34,
   "outputs": [
    {
     "data": {
      "text/plain": "<Figure size 432x288 with 1 Axes>",
      "image/png": "[encoded data removed]"
     },
     "metadata": {
      "needs_background": "light"
     },
     "output_type": "display_data"
    }
   ],
   "source": [
    "generate_bar(train,'num_mentions')"
   ],
   "metadata": {
    "collapsed": false,
    "pycharm": {
     "name": "#%%\n"
    }
   }
  },
  {
   "cell_type": "code",
   "execution_count": null,
   "outputs": [],
   "source": [],
   "metadata": {
    "collapsed": false,
    "pycharm": {
     "name": "#%%\n"
    }
   }
  }
 ],
 "metadata": {
  "kernelspec": {
   "display_name": "Python 3",
   "language": "python",
   "name": "python3"
  },
  "language_info": {
   "codemirror_mode": {
    "name": "ipython",
    "version": 2
   },
   "file_extension": ".py",
   "mimetype": "text/x-python",
   "name": "python",
   "nbconvert_exporter": "python",
   "pygments_lexer": "ipython2",
   "version": "2.7.6"
  }
 },
 "nbformat": 4,
 "nbformat_minor": 0
}